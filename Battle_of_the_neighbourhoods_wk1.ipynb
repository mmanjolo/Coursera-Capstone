{
 "cells": [
  {
   "cell_type": "markdown",
   "metadata": {},
   "source": [
    "# Capstone Project - The Battle of the Neighborhoods (Week 1)\n",
    "### Applied Data Science Capstone by Martin Manjolo"
   ]
  },
  {
   "cell_type": "markdown",
   "metadata": {},
   "source": [
    "## Table of contents\n",
    "* [Introduction: Business Problem](#introduction)\n",
    "* [Data](#data)\n",
    "* [Methodology](#methodology)"
   ]
  },
  {
   "cell_type": "markdown",
   "metadata": {},
   "source": [
    "## Introduction: Business Problem <a name=\"introduction\"></a>"
   ]
  },
  {
   "cell_type": "markdown",
   "metadata": {},
   "source": [
    "In this project we will try to find the optimal neighbourhood to buy a home. We will focus on potential homeowners looking to buy a home in London, England. We will do this by creating clusters of neighbourhoods in London based on selected amenities and average real estate prices."
   ]
  },
  {
   "cell_type": "markdown",
   "metadata": {},
   "source": [
    "## Data <a name=\"data\"></a>"
   ]
  },
  {
   "cell_type": "markdown",
   "metadata": {},
   "source": [
    "Data on London properties and relative price data is extracted from the HM Land registry available here:\n",
    "\n",
    "https://www.gov.uk/government/statistical-data-sets/price-paid-data-downloads\n",
    "\n",
    "A csv of this data is provided along with this notebook.\n",
    "\n",
    "We employ the price paid data for the year 2020, last updated on 27 March 2020.\n",
    "\n",
    "Additionally, we employ the use of geographical cordinate data provided by freemaptools. This proved useful as we faced challenges geocoding the coordinates. UK postal code and geographical data is available here:\n",
    "\n",
    "https://www.freemaptools.com/download-uk-postcode-lat-lng.htm\n",
    "\n",
    "A csv of this data is provided along with this notebook.\n",
    "\n",
    "We also employ Foursquare data to discover recommended amenities and venues in the neighbourhoods in order to select and recommend idea neighbourhoods for considerations. \n",
    "Based on our problem, factors that will influence our decision are:\n",
    "\n",
    "* We are looking at a 2 bedroomed apartment or flat as close as possible to Central London\n",
    "* The price range we are working with is between 500,000 GBP and 510,000 GBP\n",
    "* Venues and essential amenities should be located within 500 metres of the property"
   ]
  },
  {
   "cell_type": "markdown",
   "metadata": {},
   "source": [
    "## Methodology <a name=\"methodology\"></a>"
   ]
  },
  {
   "cell_type": "markdown",
   "metadata": {},
   "source": [
    "The methodology section comprises several components:\n",
    "* Python Library and dependencies import\n",
    "* Data collection and import\n",
    "* Data preparation\n",
    "* Data analysis and modelling"
   ]
  }
 ],
 "metadata": {
  "kernelspec": {
   "display_name": "Python 3",
   "language": "python",
   "name": "python3"
  },
  "language_info": {
   "codemirror_mode": {
    "name": "ipython",
    "version": 3
   },
   "file_extension": ".py",
   "mimetype": "text/x-python",
   "name": "python",
   "nbconvert_exporter": "python",
   "pygments_lexer": "ipython3",
   "version": "3.7.7"
  }
 },
 "nbformat": 4,
 "nbformat_minor": 4
}
